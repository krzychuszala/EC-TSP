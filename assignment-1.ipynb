{
 "cells": [
  {
   "cell_type": "markdown",
   "metadata": {},
   "source": [
    "# Evolutionary Computation Assignment 1\n",
    "\n",
    "- Krzysztof Szala 144571\n",
    "- Vadym Repetskyi 155610\n"
   ]
  },
  {
   "cell_type": "code",
   "execution_count": 20,
   "metadata": {},
   "outputs": [],
   "source": [
    "from utils import TspInstance\n",
    "import math\n",
    "import numpy as np\n",
    "import pandas as pd\n",
    "\n",
    "tsp_a = TspInstance(\"TSPA.csv\")\n",
    "tsp_b = TspInstance(\"TSPB.csv\")"
   ]
  },
  {
   "cell_type": "markdown",
   "metadata": {},
   "source": [
    "## Problem Instance Comparison\n"
   ]
  },
  {
   "cell_type": "code",
   "execution_count": 2,
   "metadata": {},
   "outputs": [
    {
     "name": "stdout",
     "output_type": "stream",
     "text": [
      "Average cost for an instance A: 978.165\n",
      "Average cost for an instance B: 494.58\n"
     ]
    }
   ],
   "source": [
    "print(\"Average cost for an instance A:\", np.mean(tsp_a.node_costs))\n",
    "print(\"Average cost for an instance B:\", np.mean(tsp_b.node_costs))"
   ]
  },
  {
   "cell_type": "markdown",
   "metadata": {},
   "source": [
    "## Random Solution\n",
    "\n",
    "Randomly select half of the nodes and shuffle them.\n"
   ]
  },
  {
   "cell_type": "code",
   "execution_count": 3,
   "metadata": {},
   "outputs": [],
   "source": [
    "def random_solution(tsp: TspInstance):\n",
    "    num_nodes = tsp.distance_matrix.shape[0]\n",
    "    num_nodes_to_select = math.ceil(num_nodes / 2)\n",
    "    selected_nodes = np.random.choice(num_nodes, num_nodes_to_select, replace=False)\n",
    "    return selected_nodes"
   ]
  },
  {
   "cell_type": "markdown",
   "metadata": {},
   "source": [
    "## Nearest Neighbor End\n",
    "\n",
    "1. Start the _acyclic path_ with a random node.\n",
    "2. While selected less than half of all nodes:\n",
    "   1. Add a node that will increase the cost of the _acyclic path_ the least if added to the _end of the path_.\n",
    "\n",
    "The cost is defined as the _sum of each node's cost and the distances between nodes_.\n"
   ]
  },
  {
   "cell_type": "code",
   "execution_count": 4,
   "metadata": {},
   "outputs": [],
   "source": [
    "def nearest_neighbor_end(tsp: TspInstance):\n",
    "    solution = [np.random.choice(tsp.size)]\n",
    "\n",
    "    while len(solution) < np.ceil(tsp.size / 2):\n",
    "        selected_node_index = min_cost = None\n",
    "\n",
    "        for node_index in range(tsp.size):\n",
    "            if node_index in solution:\n",
    "                continue\n",
    "\n",
    "            cost = tsp.get_cost(solution + [node_index])\n",
    "            if min_cost is None or cost < min_cost:\n",
    "                selected_node_index = node_index\n",
    "                min_cost = cost\n",
    "\n",
    "        solution.append(selected_node_index)\n",
    "\n",
    "    return solution"
   ]
  },
  {
   "cell_type": "markdown",
   "metadata": {},
   "source": [
    "## Nearest Neighbor Any\n",
    "\n",
    "1. Start the _acyclic path_ with a random node.\n",
    "2. While selected less than half of all nodes:\n",
    "   1. Add a node that will increase the cost of the _acyclic path_ the least if added _anywhere in the path_.\n",
    "\n",
    "The cost is defined as the _sum of each node's cost and the distances between nodes_.\n"
   ]
  },
  {
   "cell_type": "code",
   "execution_count": 5,
   "metadata": {},
   "outputs": [],
   "source": [
    "def nearest_neighbor_any(tsp: TspInstance):\n",
    "    solution = [np.random.choice(tsp.size)]\n",
    "\n",
    "    while len(solution) < np.ceil(tsp.size / 2):\n",
    "        selected_node_index = min_cost = None\n",
    "\n",
    "        for node_index in range(tsp.size):\n",
    "            if node_index in solution:\n",
    "                continue\n",
    "\n",
    "            for path_index in range(len(solution) + 1):\n",
    "                test_solution = list(solution)\n",
    "                test_solution.insert(path_index, node_index)\n",
    "\n",
    "                cost = tsp.get_cost(test_solution)\n",
    "                if min_cost is None or cost < min_cost:\n",
    "                    selected_node_index = node_index\n",
    "                    min_cost = cost\n",
    "\n",
    "        solution.append(selected_node_index)\n",
    "\n",
    "    return solution"
   ]
  },
  {
   "cell_type": "markdown",
   "metadata": {},
   "source": [
    "## Greedy cycle\n",
    "\n",
    "1. Initialize the _cycle_ with a _random node_ and _another node closest to it_.\n",
    "2. While selected less than half of all nodes:\n",
    "   1. Test the _difference in cycle cost_ introduced by inserting a node at _any possible place_.\n",
    "   2. Insert the node minimazing the cost at the respective place.\n",
    "\n",
    "The cost difference is defined as follows: _inserted_node_cost_ + _cost_of_added_connections_ - _cost_of_removed_connection_.\n"
   ]
  },
  {
   "cell_type": "code",
   "execution_count": 6,
   "metadata": {},
   "outputs": [],
   "source": [
    "def greedy_cycle(tsp: TspInstance):\n",
    "    solution = [np.random.choice(tsp.size)]\n",
    "    solution.append(np.argmin(tsp.distance_matrix[solution[0]]))\n",
    "\n",
    "    while len(solution) < np.ceil(tsp.size / 2):\n",
    "        selected_node_index = min_cost = None\n",
    "\n",
    "        for node_index in range(tsp.size):\n",
    "            if node_index in solution:\n",
    "                continue\n",
    "\n",
    "            for path_index in range(len(solution) + 1):\n",
    "                test_solution = list(solution)\n",
    "                test_solution.insert(path_index, node_index)\n",
    "\n",
    "                cost = tsp.get_cost(test_solution, cycle=True)\n",
    "                if min_cost is None or cost < min_cost:\n",
    "                    selected_node_index = node_index\n",
    "                    min_cost = cost\n",
    "\n",
    "        solution.append(selected_node_index)\n",
    "\n",
    "    return solution"
   ]
  },
  {
   "cell_type": "markdown",
   "metadata": {},
   "source": [
    "## Experiments\n"
   ]
  },
  {
   "cell_type": "code",
   "execution_count": 14,
   "metadata": {},
   "outputs": [],
   "source": [
    "experiments = (\n",
    "    tsp_a.run_experiments(random_solution, num_iterations=1),\n",
    "    tsp_b.run_experiments(random_solution, num_iterations=1),\n",
    "    tsp_a.run_experiments(nearest_neighbor_end, num_iterations=1),\n",
    "    tsp_b.run_experiments(nearest_neighbor_end, num_iterations=1),\n",
    "    tsp_a.run_experiments(nearest_neighbor_any, num_iterations=1),\n",
    "    tsp_b.run_experiments(nearest_neighbor_any, num_iterations=1),\n",
    "    tsp_a.run_experiments(greedy_cycle, True, num_iterations=1),\n",
    "    tsp_b.run_experiments(greedy_cycle, True, num_iterations=1),\n",
    ")"
   ]
  },
  {
   "cell_type": "code",
   "execution_count": 27,
   "metadata": {},
   "outputs": [
    {
     "data": {
      "text/html": [
       "<div>\n",
       "<style scoped>\n",
       "    .dataframe tbody tr th:only-of-type {\n",
       "        vertical-align: middle;\n",
       "    }\n",
       "\n",
       "    .dataframe tbody tr th {\n",
       "        vertical-align: top;\n",
       "    }\n",
       "\n",
       "    .dataframe thead th {\n",
       "        text-align: right;\n",
       "    }\n",
       "</style>\n",
       "<table border=\"1\" class=\"dataframe\">\n",
       "  <thead>\n",
       "    <tr style=\"text-align: right;\">\n",
       "      <th></th>\n",
       "      <th>Random A</th>\n",
       "      <th>Random B</th>\n",
       "      <th>NN-End A</th>\n",
       "      <th>NN-End B</th>\n",
       "      <th>NN-Any A</th>\n",
       "      <th>NN-Any B</th>\n",
       "      <th>Cycle A</th>\n",
       "      <th>Cycle B</th>\n",
       "    </tr>\n",
       "  </thead>\n",
       "  <tbody>\n",
       "    <tr>\n",
       "      <th>min</th>\n",
       "      <td>253846.0</td>\n",
       "      <td>226037.0</td>\n",
       "      <td>78201.0</td>\n",
       "      <td>52495.0</td>\n",
       "      <td>107418.0</td>\n",
       "      <td>69357.0</td>\n",
       "      <td>121561.0</td>\n",
       "      <td>74529.0</td>\n",
       "    </tr>\n",
       "    <tr>\n",
       "      <th>max</th>\n",
       "      <td>253846.0</td>\n",
       "      <td>226037.0</td>\n",
       "      <td>78201.0</td>\n",
       "      <td>52495.0</td>\n",
       "      <td>107418.0</td>\n",
       "      <td>69357.0</td>\n",
       "      <td>121561.0</td>\n",
       "      <td>74529.0</td>\n",
       "    </tr>\n",
       "    <tr>\n",
       "      <th>avg</th>\n",
       "      <td>253846.0</td>\n",
       "      <td>226037.0</td>\n",
       "      <td>78201.0</td>\n",
       "      <td>52495.0</td>\n",
       "      <td>107418.0</td>\n",
       "      <td>69357.0</td>\n",
       "      <td>121561.0</td>\n",
       "      <td>74529.0</td>\n",
       "    </tr>\n",
       "  </tbody>\n",
       "</table>\n",
       "</div>"
      ],
      "text/plain": [
       "     Random A  Random B  NN-End A  NN-End B  NN-Any A  NN-Any B   Cycle A  \\\n",
       "min  253846.0  226037.0   78201.0   52495.0  107418.0   69357.0  121561.0   \n",
       "max  253846.0  226037.0   78201.0   52495.0  107418.0   69357.0  121561.0   \n",
       "avg  253846.0  226037.0   78201.0   52495.0  107418.0   69357.0  121561.0   \n",
       "\n",
       "     Cycle B  \n",
       "min  74529.0  \n",
       "max  74529.0  \n",
       "avg  74529.0  "
      ]
     },
     "execution_count": 27,
     "metadata": {},
     "output_type": "execute_result"
    }
   ],
   "source": [
    "pd.DataFrame(\n",
    "    np.array(tuple(map(lambda x: x[:-1], experiments))).T,\n",
    "    columns=(\n",
    "        \"Random A\",\n",
    "        \"Random B\",\n",
    "        \"NN-End A\",\n",
    "        \"NN-End B\",\n",
    "        \"NN-Any A\",\n",
    "        \"NN-Any B\",\n",
    "        \"Cycle A\",\n",
    "        \"Cycle B\",\n",
    "    ),\n",
    "    index=(\"min\", \"max\", \"avg\"),\n",
    ")"
   ]
  },
  {
   "cell_type": "markdown",
   "metadata": {},
   "source": [
    "# Conclusions:\n",
    "\n",
    "- Nearest neighbor considering adding the node only at the end of the current path (NN_end) - method had best results for both instance, ended with best solution\n",
    "- Random solution didn't have a luck even for such small sample of nodes and work much worse\n",
    "- For an instance B, NN_end and greedy cycle method get almost same results\n",
    "- Average cost for an instance is almost two times higher for instance B, which can be an explanation, why the results of heuristics give us lower overall cost\n",
    "- In general, we expected:\n",
    "  - nearest neighbor - be quick and far better than random\n",
    "  - greedy cycle - balance between speed and solution quality\n",
    "- We get nn_end even better than greedy cycle\n"
   ]
  }
 ],
 "metadata": {
  "kernelspec": {
   "display_name": "Python 3",
   "language": "python",
   "name": "python3"
  },
  "language_info": {
   "codemirror_mode": {
    "name": "ipython",
    "version": 3
   },
   "file_extension": ".py",
   "mimetype": "text/x-python",
   "name": "python",
   "nbconvert_exporter": "python",
   "pygments_lexer": "ipython3",
   "version": "3.12.3"
  }
 },
 "nbformat": 4,
 "nbformat_minor": 2
}
