{
 "cells": [
  {
   "cell_type": "markdown",
   "metadata": {},
   "source": [
    "# Evolutionary Computation Assignment 4\n",
    "\n",
    "##### Solutions checked by solution checker\n",
    "\n",
    "- Krzysztof Szala 144571\n",
    "- Vadym Repetskyi 155610"
   ]
  },
  {
   "cell_type": "markdown",
   "metadata": {},
   "source": [
    "# Problem description\n",
    "\n",
    "#### The use of candidate moves in local search\n",
    "- The goal of the task is to improve the time efficiency of the steepest local search with the use of\n",
    "candidate moves using the neighborhood, which turned out to be the best in the previous\n",
    "assignment,\n",
    "- As candidate moves, we use moves that introduce at least one candidate edge to the solution. We\n",
    "define the candidate edges by determining for each vertex 10 other “nearest” vertices (“nearest”\n",
    "taking into account sum of the edge length and vertex cost). This parameter (10) can also be selected\n",
    "experimentally to obtain the best results.\n",
    "- Note that both in the case of intra-route moves (e.g. two-edges exchange) and inter-route moves\n",
    "(nodes-exchange with one selected one not selected) we should ensure that at least one candidate\n",
    "edge is introduced to the solution. In particular, it is not correct to exchange a selected node with\n",
    "one of its nearest neighbors without adding to the solution at least one candidate edge.\n",
    "- Note that there are in both cases two moves that introduce a given candidate edge.\n",
    "- As starting solutions use random solutions.\n",
    "- As baseline report also results of the steepest local search with random starting solutions without\n",
    "these mechanisms.\n",
    "- Computational experiment: Run each of the methods 200 times."
   ]
  },
  {
   "cell_type": "code",
   "execution_count": null,
   "metadata": {},
   "outputs": [],
   "source": [
    "from utils import TspInstance, random_solution, local_search\n",
    "import pandas as pd\n",
    "import numpy as np"
   ]
  },
  {
   "cell_type": "markdown",
   "metadata": {},
   "source": [
    "# Pseudocodes"
   ]
  },
  {
   "cell_type": "markdown",
   "metadata": {},
   "source": [
    "## Candidate Moves\n",
    "\n",
    "1. Generate Random Solution\n",
    "2. For each vertex x\n",
    "    1. For each vertex y from the list of the closes vertices to vertex x -> Evaluate all (two) moves involving the addition of edge (x,y) and the removal of one of the edges adjacent to x"
   ]
  },
  {
   "cell_type": "code",
   "execution_count": null,
   "metadata": {},
   "outputs": [],
   "source": [
    "def single_inter_move(tsp, solution, to_unselect, to_select):\n",
    "    solution = solution.copy()\n",
    "    insert_index = np.where(solution == to_unselect)[0][0]\n",
    "\n",
    "    prev = solution[insert_index - 1]\n",
    "    next = solution[(insert_index + 1) % len(solution)]\n",
    "\n",
    "    cost_change = (\n",
    "        tsp.node_costs[to_select]\n",
    "        + tsp.distance_matrix[prev, to_select]\n",
    "        + tsp.distance_matrix[to_select, next]\n",
    "        - tsp.node_costs[to_unselect]\n",
    "        - tsp.distance_matrix[prev, to_unselect]\n",
    "        - tsp.distance_matrix[to_unselect, next]\n",
    "    )\n",
    "    \n",
    "    if to_unselect is not None:\n",
    "        solution[np.where(solution == to_unselect)] = to_select\n",
    "    \n",
    "    return solution, cost_change"
   ]
  },
  {
   "cell_type": "code",
   "execution_count": null,
   "metadata": {},
   "outputs": [],
   "source": [
    "def single_intra_move(tsp, solution, a, b):\n",
    "    solution = solution.copy()\n",
    "    index_a = np.where(solution == a)[0][0]\n",
    "    index_b = np.where(solution == b)[0][0]\n",
    "\n",
    "    a_prev = solution[index_a - 1]\n",
    "    b_prev = solution[index_b - 1]\n",
    "    if index_a - 1 < 0:\n",
    "        a_prev = solution[len(solution) - 1]\n",
    "    if index_b - 1 < 0:\n",
    "        b_prev = solution[len(solution) - 1]\n",
    "\n",
    "    a_next = solution[(index_a + 1) % len(solution)]\n",
    "    b_next = solution[(index_b + 1) % len(solution)]\n",
    "\n",
    "    cost_change = (\n",
    "        tsp.distance_matrix[a_prev, b]\n",
    "        + tsp.distance_matrix[b, a_next]\n",
    "        + tsp.distance_matrix[b_prev, a]\n",
    "        + tsp.distance_matrix[a, b_next]\n",
    "        - tsp.distance_matrix[a_prev, a]\n",
    "        - tsp.distance_matrix[a, a_next]\n",
    "        - tsp.distance_matrix[b_prev, b]\n",
    "        - tsp.distance_matrix[b, b_next]\n",
    "    )\n",
    "\n",
    "    if index_a < index_b:\n",
    "        subsequence = solution[(index_a + 1):index_b+1][::-1]\n",
    "        solution[(index_a + 1):index_b+1] = subsequence\n",
    "    else:\n",
    "        subsequence = solution[(index_b + 1):index_a+1][::-1]\n",
    "        solution[(index_b + 1):index_a+1] = subsequence\n",
    "\n",
    "    return solution, cost_change"
   ]
  },
  {
   "cell_type": "code",
   "execution_count": null,
   "metadata": {},
   "outputs": [],
   "source": [
    "def candidate_list(tsp: TspInstance, start_node: int):\n",
    "    \n",
    "    solution = random_solution(tsp, start_node)\n",
    "    \n",
    "    for node_x in solution:\n",
    "        # Find 10 the closest vertices to the current node\n",
    "        closest_vertices = np.argsort(tsp.distance_matrix[node_x] + tsp.node_costs)\n",
    "        closest_vertices = closest_vertices[closest_vertices != node_x][:10]\n",
    "        \n",
    "        best_cost_change = 0\n",
    "        best_solution    = None\n",
    "        for node_y in closest_vertices:\n",
    "            # Evaluate inter and intra route moves\n",
    "            if node_y in solution:\n",
    "                solution, cost_change = single_intra_move(tsp, solution, node_x, node_y)\n",
    "            else:\n",
    "                solution, cost_change = single_inter_move(tsp, solution, node_x, node_y)\n",
    "                \n",
    "            if cost_change < best_cost_change:\n",
    "                best_cost_change = cost_change\n",
    "                best_solution = solution.copy()\n",
    "                    \n",
    "        if best_solution is not None:\n",
    "            solution = best_solution\n",
    "        \n",
    "    return solution"
   ]
  },
  {
   "cell_type": "markdown",
   "metadata": {},
   "source": [
    "# Experiments"
   ]
  },
  {
   "cell_type": "code",
   "execution_count": null,
   "metadata": {},
   "outputs": [],
   "source": [
    "columns = []\n",
    "experiments = []\n",
    "\n",
    "for instance in (TspInstance(\"TSPA.csv\"), TspInstance(\"TSPB.csv\")):\n",
    "    column = f\"{instance.file_path[3]}\"\n",
    "    experiments.append(\n",
    "        instance.run_experiments(\n",
    "            local_search, initial_solution_getter=random_solution, intra_type=\"edges\", steepest=True\n",
    "        )\n",
    "    )\n",
    "    instance.plot(experiments[-1][-1], column)"
   ]
  },
  {
   "cell_type": "markdown",
   "metadata": {},
   "source": [
    "# Conlusions"
   ]
  }
 ],
 "metadata": {
  "language_info": {
   "name": "python"
  }
 },
 "nbformat": 4,
 "nbformat_minor": 2
}
